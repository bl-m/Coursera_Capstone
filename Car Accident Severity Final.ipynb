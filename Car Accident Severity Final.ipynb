{
 "cells": [
  {
   "cell_type": "markdown",
   "metadata": {},
   "source": [
    "## Predicting Car Accident Severity\n",
    "### IBM Applied Data Science Capstone Project "
   ]
  },
  {
   "cell_type": "markdown",
   "metadata": {},
   "source": [
    " Table of Content\n",
    "1. [Introduction](#intro)\n",
    "2. [Data](#data)\n",
    "3. [Exploratory Data Analysis](#eda)\n",
    "4. [Feature Engineering - Data Preparation](#prep)\n",
    "5. [Model Development](#modeling)\n",
    "6. [Results](#results)\n",
    " "
   ]
  },
  {
   "cell_type": "markdown",
   "metadata": {},
   "source": [
    "## 1. Introduction"
   ]
  },
  {
   "cell_type": "markdown",
   "metadata": {},
   "source": [
    "This study aims to develop a model that correctly identifies the severity of the traffic accidents in the city of Seattle. The data that is used for this study is an open source data and taken from Kaggle.com. It includes accident records that covers accidents between the years of 2004 and 2020. The machine learning models that this study implements have slightly different algorithms and they will help us to understand the factors that contribute to the severity of the accidents. Analysis of such factors can potentially help authorities better strategies and plans that might help decrease the number of accidents and the gravity of them. "
   ]
  },
  {
   "cell_type": "markdown",
   "metadata": {},
   "source": [
    "## 2. Data"
   ]
  },
  {
   "cell_type": "markdown",
   "metadata": {},
   "source": [
    "The dataset is taken from Kaggle and it is originally hosted by the City of Seattle. It includes accident records, with all types of collisions, that covers accidents between the years of 2004 and 2020. It is updated weekly. The copy of the data that is used for this study has 38 columns, all of which include different features, and 194673 entries. "
   ]
  },
  {
   "cell_type": "code",
   "execution_count": 1,
   "metadata": {},
   "outputs": [],
   "source": [
    "import pandas as pd\n",
    "import numpy as np\n",
    "import seaborn as sns\n",
    "import datetime as dt\n",
    "\n",
    "import matplotlib.pyplot as plt\n",
    "\n",
    "import warnings \n",
    "warnings.filterwarnings('ignore')"
   ]
  },
  {
   "cell_type": "code",
   "execution_count": 2,
   "metadata": {},
   "outputs": [],
   "source": [
    "df = pd.read_csv('Data-Collisions.csv')"
   ]
  },
  {
   "cell_type": "markdown",
   "metadata": {},
   "source": [
    "## 3. Explatory Data Analysis"
   ]
  },
  {
   "cell_type": "markdown",
   "metadata": {},
   "source": [
    "In this part I studied the data for a better understanding and further analysis  "
   ]
  },
  {
   "cell_type": "code",
   "execution_count": 46,
   "metadata": {},
   "outputs": [
    {
     "data": {
      "text/plain": [
       "(194673, 38)"
      ]
     },
     "execution_count": 46,
     "metadata": {},
     "output_type": "execute_result"
    }
   ],
   "source": [
    "df.shape"
   ]
  },
  {
   "cell_type": "code",
   "execution_count": 4,
   "metadata": {},
   "outputs": [
    {
     "data": {
      "text/html": [
       "<div>\n",
       "<style scoped>\n",
       "    .dataframe tbody tr th:only-of-type {\n",
       "        vertical-align: middle;\n",
       "    }\n",
       "\n",
       "    .dataframe tbody tr th {\n",
       "        vertical-align: top;\n",
       "    }\n",
       "\n",
       "    .dataframe thead th {\n",
       "        text-align: right;\n",
       "    }\n",
       "</style>\n",
       "<table border=\"1\" class=\"dataframe\">\n",
       "  <thead>\n",
       "    <tr style=\"text-align: right;\">\n",
       "      <th></th>\n",
       "      <th>SEVERITYCODE</th>\n",
       "      <th>X</th>\n",
       "      <th>Y</th>\n",
       "      <th>OBJECTID</th>\n",
       "      <th>INCKEY</th>\n",
       "      <th>COLDETKEY</th>\n",
       "      <th>REPORTNO</th>\n",
       "      <th>STATUS</th>\n",
       "      <th>ADDRTYPE</th>\n",
       "      <th>INTKEY</th>\n",
       "      <th>...</th>\n",
       "      <th>ROADCOND</th>\n",
       "      <th>LIGHTCOND</th>\n",
       "      <th>PEDROWNOTGRNT</th>\n",
       "      <th>SDOTCOLNUM</th>\n",
       "      <th>SPEEDING</th>\n",
       "      <th>ST_COLCODE</th>\n",
       "      <th>ST_COLDESC</th>\n",
       "      <th>SEGLANEKEY</th>\n",
       "      <th>CROSSWALKKEY</th>\n",
       "      <th>HITPARKEDCAR</th>\n",
       "    </tr>\n",
       "  </thead>\n",
       "  <tbody>\n",
       "    <tr>\n",
       "      <th>0</th>\n",
       "      <td>2</td>\n",
       "      <td>-122.323148</td>\n",
       "      <td>47.703140</td>\n",
       "      <td>1</td>\n",
       "      <td>1307</td>\n",
       "      <td>1307</td>\n",
       "      <td>3502005</td>\n",
       "      <td>Matched</td>\n",
       "      <td>Intersection</td>\n",
       "      <td>37475.0</td>\n",
       "      <td>...</td>\n",
       "      <td>Wet</td>\n",
       "      <td>Daylight</td>\n",
       "      <td>NaN</td>\n",
       "      <td>NaN</td>\n",
       "      <td>NaN</td>\n",
       "      <td>10</td>\n",
       "      <td>Entering at angle</td>\n",
       "      <td>0</td>\n",
       "      <td>0</td>\n",
       "      <td>N</td>\n",
       "    </tr>\n",
       "    <tr>\n",
       "      <th>1</th>\n",
       "      <td>1</td>\n",
       "      <td>-122.347294</td>\n",
       "      <td>47.647172</td>\n",
       "      <td>2</td>\n",
       "      <td>52200</td>\n",
       "      <td>52200</td>\n",
       "      <td>2607959</td>\n",
       "      <td>Matched</td>\n",
       "      <td>Block</td>\n",
       "      <td>NaN</td>\n",
       "      <td>...</td>\n",
       "      <td>Wet</td>\n",
       "      <td>Dark - Street Lights On</td>\n",
       "      <td>NaN</td>\n",
       "      <td>6354039.0</td>\n",
       "      <td>NaN</td>\n",
       "      <td>11</td>\n",
       "      <td>From same direction - both going straight - bo...</td>\n",
       "      <td>0</td>\n",
       "      <td>0</td>\n",
       "      <td>N</td>\n",
       "    </tr>\n",
       "    <tr>\n",
       "      <th>2</th>\n",
       "      <td>1</td>\n",
       "      <td>-122.334540</td>\n",
       "      <td>47.607871</td>\n",
       "      <td>3</td>\n",
       "      <td>26700</td>\n",
       "      <td>26700</td>\n",
       "      <td>1482393</td>\n",
       "      <td>Matched</td>\n",
       "      <td>Block</td>\n",
       "      <td>NaN</td>\n",
       "      <td>...</td>\n",
       "      <td>Dry</td>\n",
       "      <td>Daylight</td>\n",
       "      <td>NaN</td>\n",
       "      <td>4323031.0</td>\n",
       "      <td>NaN</td>\n",
       "      <td>32</td>\n",
       "      <td>One parked--one moving</td>\n",
       "      <td>0</td>\n",
       "      <td>0</td>\n",
       "      <td>N</td>\n",
       "    </tr>\n",
       "    <tr>\n",
       "      <th>3</th>\n",
       "      <td>1</td>\n",
       "      <td>-122.334803</td>\n",
       "      <td>47.604803</td>\n",
       "      <td>4</td>\n",
       "      <td>1144</td>\n",
       "      <td>1144</td>\n",
       "      <td>3503937</td>\n",
       "      <td>Matched</td>\n",
       "      <td>Block</td>\n",
       "      <td>NaN</td>\n",
       "      <td>...</td>\n",
       "      <td>Dry</td>\n",
       "      <td>Daylight</td>\n",
       "      <td>NaN</td>\n",
       "      <td>NaN</td>\n",
       "      <td>NaN</td>\n",
       "      <td>23</td>\n",
       "      <td>From same direction - all others</td>\n",
       "      <td>0</td>\n",
       "      <td>0</td>\n",
       "      <td>N</td>\n",
       "    </tr>\n",
       "    <tr>\n",
       "      <th>4</th>\n",
       "      <td>2</td>\n",
       "      <td>-122.306426</td>\n",
       "      <td>47.545739</td>\n",
       "      <td>5</td>\n",
       "      <td>17700</td>\n",
       "      <td>17700</td>\n",
       "      <td>1807429</td>\n",
       "      <td>Matched</td>\n",
       "      <td>Intersection</td>\n",
       "      <td>34387.0</td>\n",
       "      <td>...</td>\n",
       "      <td>Wet</td>\n",
       "      <td>Daylight</td>\n",
       "      <td>NaN</td>\n",
       "      <td>4028032.0</td>\n",
       "      <td>NaN</td>\n",
       "      <td>10</td>\n",
       "      <td>Entering at angle</td>\n",
       "      <td>0</td>\n",
       "      <td>0</td>\n",
       "      <td>N</td>\n",
       "    </tr>\n",
       "  </tbody>\n",
       "</table>\n",
       "<p>5 rows × 38 columns</p>\n",
       "</div>"
      ],
      "text/plain": [
       "   SEVERITYCODE           X          Y  OBJECTID  INCKEY  COLDETKEY REPORTNO  \\\n",
       "0             2 -122.323148  47.703140         1    1307       1307  3502005   \n",
       "1             1 -122.347294  47.647172         2   52200      52200  2607959   \n",
       "2             1 -122.334540  47.607871         3   26700      26700  1482393   \n",
       "3             1 -122.334803  47.604803         4    1144       1144  3503937   \n",
       "4             2 -122.306426  47.545739         5   17700      17700  1807429   \n",
       "\n",
       "    STATUS      ADDRTYPE   INTKEY  ... ROADCOND                LIGHTCOND  \\\n",
       "0  Matched  Intersection  37475.0  ...      Wet                 Daylight   \n",
       "1  Matched         Block      NaN  ...      Wet  Dark - Street Lights On   \n",
       "2  Matched         Block      NaN  ...      Dry                 Daylight   \n",
       "3  Matched         Block      NaN  ...      Dry                 Daylight   \n",
       "4  Matched  Intersection  34387.0  ...      Wet                 Daylight   \n",
       "\n",
       "  PEDROWNOTGRNT  SDOTCOLNUM SPEEDING ST_COLCODE  \\\n",
       "0           NaN         NaN      NaN         10   \n",
       "1           NaN   6354039.0      NaN         11   \n",
       "2           NaN   4323031.0      NaN         32   \n",
       "3           NaN         NaN      NaN         23   \n",
       "4           NaN   4028032.0      NaN         10   \n",
       "\n",
       "                                          ST_COLDESC  SEGLANEKEY  \\\n",
       "0                                  Entering at angle           0   \n",
       "1  From same direction - both going straight - bo...           0   \n",
       "2                             One parked--one moving           0   \n",
       "3                   From same direction - all others           0   \n",
       "4                                  Entering at angle           0   \n",
       "\n",
       "   CROSSWALKKEY  HITPARKEDCAR  \n",
       "0             0             N  \n",
       "1             0             N  \n",
       "2             0             N  \n",
       "3             0             N  \n",
       "4             0             N  \n",
       "\n",
       "[5 rows x 38 columns]"
      ]
     },
     "execution_count": 4,
     "metadata": {},
     "output_type": "execute_result"
    }
   ],
   "source": [
    "df.head()"
   ]
  },
  {
   "cell_type": "code",
   "execution_count": 5,
   "metadata": {},
   "outputs": [
    {
     "name": "stdout",
     "output_type": "stream",
     "text": [
      "<class 'pandas.core.frame.DataFrame'>\n",
      "RangeIndex: 194673 entries, 0 to 194672\n",
      "Data columns (total 38 columns):\n",
      " #   Column          Non-Null Count   Dtype  \n",
      "---  ------          --------------   -----  \n",
      " 0   SEVERITYCODE    194673 non-null  int64  \n",
      " 1   X               189339 non-null  float64\n",
      " 2   Y               189339 non-null  float64\n",
      " 3   OBJECTID        194673 non-null  int64  \n",
      " 4   INCKEY          194673 non-null  int64  \n",
      " 5   COLDETKEY       194673 non-null  int64  \n",
      " 6   REPORTNO        194673 non-null  object \n",
      " 7   STATUS          194673 non-null  object \n",
      " 8   ADDRTYPE        192747 non-null  object \n",
      " 9   INTKEY          65070 non-null   float64\n",
      " 10  LOCATION        191996 non-null  object \n",
      " 11  EXCEPTRSNCODE   84811 non-null   object \n",
      " 12  EXCEPTRSNDESC   5638 non-null    object \n",
      " 13  SEVERITYCODE.1  194673 non-null  int64  \n",
      " 14  SEVERITYDESC    194673 non-null  object \n",
      " 15  COLLISIONTYPE   189769 non-null  object \n",
      " 16  PERSONCOUNT     194673 non-null  int64  \n",
      " 17  PEDCOUNT        194673 non-null  int64  \n",
      " 18  PEDCYLCOUNT     194673 non-null  int64  \n",
      " 19  VEHCOUNT        194673 non-null  int64  \n",
      " 20  INCDATE         194673 non-null  object \n",
      " 21  INCDTTM         194673 non-null  object \n",
      " 22  JUNCTIONTYPE    188344 non-null  object \n",
      " 23  SDOT_COLCODE    194673 non-null  int64  \n",
      " 24  SDOT_COLDESC    194673 non-null  object \n",
      " 25  INATTENTIONIND  29805 non-null   object \n",
      " 26  UNDERINFL       189789 non-null  object \n",
      " 27  WEATHER         189592 non-null  object \n",
      " 28  ROADCOND        189661 non-null  object \n",
      " 29  LIGHTCOND       189503 non-null  object \n",
      " 30  PEDROWNOTGRNT   4667 non-null    object \n",
      " 31  SDOTCOLNUM      114936 non-null  float64\n",
      " 32  SPEEDING        9333 non-null    object \n",
      " 33  ST_COLCODE      194655 non-null  object \n",
      " 34  ST_COLDESC      189769 non-null  object \n",
      " 35  SEGLANEKEY      194673 non-null  int64  \n",
      " 36  CROSSWALKKEY    194673 non-null  int64  \n",
      " 37  HITPARKEDCAR    194673 non-null  object \n",
      "dtypes: float64(4), int64(12), object(22)\n",
      "memory usage: 56.4+ MB\n"
     ]
    }
   ],
   "source": [
    "df.info()"
   ]
  },
  {
   "cell_type": "code",
   "execution_count": 59,
   "metadata": {},
   "outputs": [
    {
     "data": {
      "text/plain": [
       "Index(['SEVERITYCODE', 'X', 'Y', 'OBJECTID', 'INCKEY', 'COLDETKEY', 'REPORTNO',\n",
       "       'STATUS', 'ADDRTYPE', 'INTKEY', 'LOCATION', 'EXCEPTRSNCODE',\n",
       "       'EXCEPTRSNDESC', 'SEVERITYCODE.1', 'SEVERITYDESC', 'COLLISIONTYPE',\n",
       "       'PERSONCOUNT', 'PEDCOUNT', 'PEDCYLCOUNT', 'VEHCOUNT', 'INCDATE',\n",
       "       'INCDTTM', 'JUNCTIONTYPE', 'SDOT_COLCODE', 'SDOT_COLDESC',\n",
       "       'INATTENTIONIND', 'UNDERINFL', 'WEATHER', 'ROADCOND', 'LIGHTCOND',\n",
       "       'PEDROWNOTGRNT', 'SDOTCOLNUM', 'SPEEDING', 'ST_COLCODE', 'ST_COLDESC',\n",
       "       'SEGLANEKEY', 'CROSSWALKKEY', 'HITPARKEDCAR'],\n",
       "      dtype='object')"
      ]
     },
     "execution_count": 59,
     "metadata": {},
     "output_type": "execute_result"
    }
   ],
   "source": [
    "df.columns"
   ]
  },
  {
   "cell_type": "code",
   "execution_count": 60,
   "metadata": {},
   "outputs": [
    {
     "data": {
      "text/plain": [
       "True"
      ]
     },
     "execution_count": 60,
     "metadata": {},
     "output_type": "execute_result"
    }
   ],
   "source": [
    "#  For consistency, ensure that all column labels of type string.\n",
    "all(isinstance(column, str) for column in df.columns)"
   ]
  },
  {
   "cell_type": "code",
   "execution_count": 187,
   "metadata": {},
   "outputs": [
    {
     "data": {
      "text/html": [
       "<div>\n",
       "<style scoped>\n",
       "    .dataframe tbody tr th:only-of-type {\n",
       "        vertical-align: middle;\n",
       "    }\n",
       "\n",
       "    .dataframe tbody tr th {\n",
       "        vertical-align: top;\n",
       "    }\n",
       "\n",
       "    .dataframe thead th {\n",
       "        text-align: right;\n",
       "    }\n",
       "</style>\n",
       "<table border=\"1\" class=\"dataframe\">\n",
       "  <thead>\n",
       "    <tr style=\"text-align: right;\">\n",
       "      <th></th>\n",
       "      <th>SEVERITYCODE</th>\n",
       "      <th>INCDTTM</th>\n",
       "      <th>OBJECTID</th>\n",
       "    </tr>\n",
       "  </thead>\n",
       "  <tbody>\n",
       "    <tr>\n",
       "      <th>0</th>\n",
       "      <td>2</td>\n",
       "      <td>3/27/2013 2:54:00 PM</td>\n",
       "      <td>1</td>\n",
       "    </tr>\n",
       "    <tr>\n",
       "      <th>1</th>\n",
       "      <td>1</td>\n",
       "      <td>12/20/2006 6:55:00 PM</td>\n",
       "      <td>2</td>\n",
       "    </tr>\n",
       "    <tr>\n",
       "      <th>2</th>\n",
       "      <td>1</td>\n",
       "      <td>11/18/2004 10:20:00 AM</td>\n",
       "      <td>3</td>\n",
       "    </tr>\n",
       "    <tr>\n",
       "      <th>3</th>\n",
       "      <td>1</td>\n",
       "      <td>3/29/2013 9:26:00 AM</td>\n",
       "      <td>4</td>\n",
       "    </tr>\n",
       "    <tr>\n",
       "      <th>4</th>\n",
       "      <td>2</td>\n",
       "      <td>1/28/2004 8:04:00 AM</td>\n",
       "      <td>5</td>\n",
       "    </tr>\n",
       "  </tbody>\n",
       "</table>\n",
       "</div>"
      ],
      "text/plain": [
       "   SEVERITYCODE                 INCDTTM  OBJECTID\n",
       "0             2    3/27/2013 2:54:00 PM         1\n",
       "1             1   12/20/2006 6:55:00 PM         2\n",
       "2             1  11/18/2004 10:20:00 AM         3\n",
       "3             1    3/29/2013 9:26:00 AM         4\n",
       "4             2    1/28/2004 8:04:00 AM         5"
      ]
     },
     "execution_count": 187,
     "metadata": {},
     "output_type": "execute_result"
    }
   ],
   "source": [
    "df_time = df[['SEVERITYCODE', 'INCDTTM', 'OBJECTID']]\n",
    "df_time.head()"
   ]
  },
  {
   "cell_type": "code",
   "execution_count": 189,
   "metadata": {},
   "outputs": [],
   "source": [
    "df_time['INCDTTM'] = pd.to_datetime(df_time['INCDTTM'])\n",
    "df_time['DATE'] = pd.to_datetime((df_time['INCDTTM']).dt.date)\n",
    "df_time['YEAR'] = df_time['INCDTTM'].dt.year.astype('int64')\n",
    "df_time['MONTH'] = df_time['INCDTTM'].dt.month.astype('int64')\n",
    "df_time['HOUR'] = df_time['INCDTTM'].dt.hour.astype('int64')\n"
   ]
  },
  {
   "cell_type": "code",
   "execution_count": 195,
   "metadata": {},
   "outputs": [],
   "source": [
    "df_time.drop(['INCDTTM'],axis=1, inplace=True)"
   ]
  },
  {
   "cell_type": "code",
   "execution_count": 196,
   "metadata": {},
   "outputs": [
    {
     "data": {
      "text/html": [
       "<div>\n",
       "<style scoped>\n",
       "    .dataframe tbody tr th:only-of-type {\n",
       "        vertical-align: middle;\n",
       "    }\n",
       "\n",
       "    .dataframe tbody tr th {\n",
       "        vertical-align: top;\n",
       "    }\n",
       "\n",
       "    .dataframe thead th {\n",
       "        text-align: right;\n",
       "    }\n",
       "</style>\n",
       "<table border=\"1\" class=\"dataframe\">\n",
       "  <thead>\n",
       "    <tr style=\"text-align: right;\">\n",
       "      <th></th>\n",
       "      <th>SEVERITYCODE</th>\n",
       "      <th>OBJECTID</th>\n",
       "      <th>DATE</th>\n",
       "      <th>YEAR</th>\n",
       "      <th>MONTH</th>\n",
       "      <th>HOUR</th>\n",
       "    </tr>\n",
       "  </thead>\n",
       "  <tbody>\n",
       "    <tr>\n",
       "      <th>0</th>\n",
       "      <td>2</td>\n",
       "      <td>1</td>\n",
       "      <td>2013-03-27</td>\n",
       "      <td>2013</td>\n",
       "      <td>3</td>\n",
       "      <td>14</td>\n",
       "    </tr>\n",
       "    <tr>\n",
       "      <th>1</th>\n",
       "      <td>1</td>\n",
       "      <td>2</td>\n",
       "      <td>2006-12-20</td>\n",
       "      <td>2006</td>\n",
       "      <td>12</td>\n",
       "      <td>18</td>\n",
       "    </tr>\n",
       "    <tr>\n",
       "      <th>2</th>\n",
       "      <td>1</td>\n",
       "      <td>3</td>\n",
       "      <td>2004-11-18</td>\n",
       "      <td>2004</td>\n",
       "      <td>11</td>\n",
       "      <td>10</td>\n",
       "    </tr>\n",
       "    <tr>\n",
       "      <th>3</th>\n",
       "      <td>1</td>\n",
       "      <td>4</td>\n",
       "      <td>2013-03-29</td>\n",
       "      <td>2013</td>\n",
       "      <td>3</td>\n",
       "      <td>9</td>\n",
       "    </tr>\n",
       "    <tr>\n",
       "      <th>4</th>\n",
       "      <td>2</td>\n",
       "      <td>5</td>\n",
       "      <td>2004-01-28</td>\n",
       "      <td>2004</td>\n",
       "      <td>1</td>\n",
       "      <td>8</td>\n",
       "    </tr>\n",
       "  </tbody>\n",
       "</table>\n",
       "</div>"
      ],
      "text/plain": [
       "   SEVERITYCODE  OBJECTID       DATE  YEAR  MONTH  HOUR\n",
       "0             2         1 2013-03-27  2013      3    14\n",
       "1             1         2 2006-12-20  2006     12    18\n",
       "2             1         3 2004-11-18  2004     11    10\n",
       "3             1         4 2013-03-29  2013      3     9\n",
       "4             2         5 2004-01-28  2004      1     8"
      ]
     },
     "execution_count": 196,
     "metadata": {},
     "output_type": "execute_result"
    }
   ],
   "source": [
    "df_time.head()"
   ]
  },
  {
   "cell_type": "code",
   "execution_count": 190,
   "metadata": {},
   "outputs": [
    {
     "data": {
      "text/plain": [
       "1    136485\n",
       "2     58188\n",
       "Name: SEVERITYCODE, dtype: int64"
      ]
     },
     "execution_count": 190,
     "metadata": {},
     "output_type": "execute_result"
    }
   ],
   "source": [
    "df['SEVERITYCODE'].value_counts()"
   ]
  },
  {
   "cell_type": "code",
   "execution_count": 201,
   "metadata": {},
   "outputs": [],
   "source": [
    "def catplot_show(column, hue, df):\n",
    "  g = sns.catplot(column, data=df, aspect=2.0, kind='count',palette=\"rocket\", hue=hue, legend = False)\n",
    "  g.set_xticklabels(rotation=45, fontsize=12)\n",
    "  g.set_yticklabels(fontsize=12)\n",
    "  g.set_xlabels(column, fontsize=12, labelpad = 16)\n",
    "  g.set_ylabels('Number of Collisions', fontsize=12, labelpad = 16)\n",
    "  legend = plt.legend(title='Severity', loc=(1,1), fontsize=12)\n",
    "  legend.get_title().set_fontsize('16')\n",
    "  plt.show()\n",
    "  return g"
   ]
  },
  {
   "cell_type": "code",
   "execution_count": 202,
   "metadata": {},
   "outputs": [
    {
     "data": {
      "image/png": "[encoded data removed]",
      "text/plain": [
       "<Figure size 720x360 with 1 Axes>"
      ]
     },
     "metadata": {
      "needs_background": "light"
     },
     "output_type": "display_data"
    }
   ],
   "source": [
    "catplot_show('YEAR', 'SEVERITYCODE', df_time);"
   ]
  },
  {
   "cell_type": "code",
   "execution_count": 203,
   "metadata": {},
   "outputs": [
    {
     "data": {
      "image/png": "[encoded data removed]",
      "text/plain": [
       "<Figure size 720x360 with 1 Axes>"
      ]
     },
     "metadata": {
      "needs_background": "light"
     },
     "output_type": "display_data"
    }
   ],
   "source": [
    "catplot_show('MONTH', 'SEVERITYCODE', df_time);"
   ]
  },
  {
   "cell_type": "code",
   "execution_count": 204,
   "metadata": {},
   "outputs": [
    {
     "data": {
      "image/png": "[encoded data removed]",
      "text/plain": [
       "<Figure size 720x360 with 1 Axes>"
      ]
     },
     "metadata": {
      "needs_background": "light"
     },
     "output_type": "display_data"
    }
   ],
   "source": [
    "catplot_show('HOUR', 'SEVERITYCODE', df_time);"
   ]
  },
  {
   "cell_type": "markdown",
   "metadata": {},
   "source": [
    "## 4. Feature Engineering - Data Preparation"
   ]
  },
  {
   "cell_type": "markdown",
   "metadata": {},
   "source": [
    "In this part I reviewed the data for missing values and outliers and I performed some feature engineering operations such as handling missing values and dropping some variables that seemed unrelevant. "
   ]
  },
  {
   "cell_type": "code",
   "execution_count": 67,
   "metadata": {},
   "outputs": [],
   "source": [
    "# making a list of variables that contain missing values:\n",
    "\n",
    "vars_with_na = [var for var in df.columns if df[var].isnull().sum() > 0]"
   ]
  },
  {
   "cell_type": "code",
   "execution_count": 68,
   "metadata": {},
   "outputs": [
    {
     "data": {
      "text/plain": [
       "['X',\n",
       " 'Y',\n",
       " 'ADDRTYPE',\n",
       " 'INTKEY',\n",
       " 'LOCATION',\n",
       " 'EXCEPTRSNCODE',\n",
       " 'EXCEPTRSNDESC',\n",
       " 'COLLISIONTYPE',\n",
       " 'JUNCTIONTYPE',\n",
       " 'INATTENTIONIND',\n",
       " 'UNDERINFL',\n",
       " 'WEATHER',\n",
       " 'ROADCOND',\n",
       " 'LIGHTCOND',\n",
       " 'PEDROWNOTGRNT',\n",
       " 'SDOTCOLNUM',\n",
       " 'SPEEDING',\n",
       " 'ST_COLCODE',\n",
       " 'ST_COLDESC']"
      ]
     },
     "execution_count": 68,
     "metadata": {},
     "output_type": "execute_result"
    }
   ],
   "source": [
    "vars_with_na "
   ]
  },
  {
   "cell_type": "code",
   "execution_count": 69,
   "metadata": {},
   "outputs": [],
   "source": [
    "def missing_data(df):\n",
    "    x = ['column_name','missing_data', 'missing_in_percentage']\n",
    "    missing_data = pd.DataFrame(columns=x)\n",
    "    columns = df.columns\n",
    "    for col in columns:\n",
    "        icolumn_name = col\n",
    "        imissing_data = df[col].isnull().sum()\n",
    "        imissing_in_percentage = (df[col].isnull().sum()/df[col].shape[0])*100\n",
    "        \n",
    "        missing_data.loc[len(missing_data)] = [icolumn_name, imissing_data, imissing_in_percentage]\n",
    "    print(missing_data) "
   ]
  },
  {
   "cell_type": "code",
   "execution_count": 70,
   "metadata": {},
   "outputs": [
    {
     "name": "stdout",
     "output_type": "stream",
     "text": [
      "       column_name missing_data  missing_in_percentage\n",
      "0     SEVERITYCODE            0               0.000000\n",
      "1                X         5334               2.739979\n",
      "2                Y         5334               2.739979\n",
      "3         OBJECTID            0               0.000000\n",
      "4           INCKEY            0               0.000000\n",
      "5        COLDETKEY            0               0.000000\n",
      "6         REPORTNO            0               0.000000\n",
      "7           STATUS            0               0.000000\n",
      "8         ADDRTYPE         1926               0.989351\n",
      "9           INTKEY       129603              66.574718\n",
      "10        LOCATION         2677               1.375126\n",
      "11   EXCEPTRSNCODE       109862              56.434123\n",
      "12   EXCEPTRSNDESC       189035              97.103861\n",
      "13  SEVERITYCODE.1            0               0.000000\n",
      "14    SEVERITYDESC            0               0.000000\n",
      "15   COLLISIONTYPE         4904               2.519096\n",
      "16     PERSONCOUNT            0               0.000000\n",
      "17        PEDCOUNT            0               0.000000\n",
      "18     PEDCYLCOUNT            0               0.000000\n",
      "19        VEHCOUNT            0               0.000000\n",
      "20         INCDATE            0               0.000000\n",
      "21         INCDTTM            0               0.000000\n",
      "22    JUNCTIONTYPE         6329               3.251093\n",
      "23    SDOT_COLCODE            0               0.000000\n",
      "24    SDOT_COLDESC            0               0.000000\n",
      "25  INATTENTIONIND       164868              84.689710\n",
      "26       UNDERINFL         4884               2.508822\n",
      "27         WEATHER         5081               2.610018\n",
      "28        ROADCOND         5012               2.574574\n",
      "29       LIGHTCOND         5170               2.655736\n",
      "30   PEDROWNOTGRNT       190006              97.602646\n",
      "31      SDOTCOLNUM        79737              40.959455\n",
      "32        SPEEDING       185340              95.205807\n",
      "33      ST_COLCODE           18               0.009246\n",
      "34      ST_COLDESC         4904               2.519096\n",
      "35      SEGLANEKEY            0               0.000000\n",
      "36    CROSSWALKKEY            0               0.000000\n",
      "37    HITPARKEDCAR            0               0.000000\n"
     ]
    }
   ],
   "source": [
    "missing_data(df)"
   ]
  },
  {
   "cell_type": "markdown",
   "metadata": {},
   "source": [
    "In terms of missing values, several variables have relatively high proportion of missing values and should be taken care of. But before doing that I will drop some features that are not relevant for our inquiry in predicting the severity of accidents. Selecting most relevant features is important for both developing an effective model and as well as for practical deployment. "
   ]
  },
  {
   "cell_type": "code",
   "execution_count": 88,
   "metadata": {},
   "outputs": [],
   "source": [
    "df_model = df[['SEVERITYCODE', 'WEATHER', 'ROADCOND', 'LIGHTCOND', 'COLLISIONTYPE', 'UNDERINFL','SPEEDING']].copy()"
   ]
  },
  {
   "cell_type": "code",
   "execution_count": 209,
   "metadata": {},
   "outputs": [],
   "source": [
    "df_model.rename(columns={'UNDERINFL':'UNDERINFLUENCE'},inplace=True)"
   ]
  },
  {
   "cell_type": "code",
   "execution_count": 210,
   "metadata": {},
   "outputs": [
    {
     "data": {
      "text/html": [
       "<div>\n",
       "<style scoped>\n",
       "    .dataframe tbody tr th:only-of-type {\n",
       "        vertical-align: middle;\n",
       "    }\n",
       "\n",
       "    .dataframe tbody tr th {\n",
       "        vertical-align: top;\n",
       "    }\n",
       "\n",
       "    .dataframe thead th {\n",
       "        text-align: right;\n",
       "    }\n",
       "</style>\n",
       "<table border=\"1\" class=\"dataframe\">\n",
       "  <thead>\n",
       "    <tr style=\"text-align: right;\">\n",
       "      <th></th>\n",
       "      <th>SEVERITYCODE</th>\n",
       "      <th>WEATHER</th>\n",
       "      <th>ROADCOND</th>\n",
       "      <th>LIGHTCOND</th>\n",
       "      <th>COLLISIONTYPE</th>\n",
       "      <th>UNDERINFLUENCE</th>\n",
       "      <th>SPEEDING</th>\n",
       "    </tr>\n",
       "  </thead>\n",
       "  <tbody>\n",
       "    <tr>\n",
       "      <th>0</th>\n",
       "      <td>2</td>\n",
       "      <td>Overcast</td>\n",
       "      <td>Wet</td>\n",
       "      <td>Daylight</td>\n",
       "      <td>Angles</td>\n",
       "      <td>N</td>\n",
       "      <td>N</td>\n",
       "    </tr>\n",
       "    <tr>\n",
       "      <th>1</th>\n",
       "      <td>1</td>\n",
       "      <td>Raining</td>\n",
       "      <td>Wet</td>\n",
       "      <td>Dark - Street Lights On</td>\n",
       "      <td>Sideswipe</td>\n",
       "      <td>N</td>\n",
       "      <td>N</td>\n",
       "    </tr>\n",
       "    <tr>\n",
       "      <th>2</th>\n",
       "      <td>1</td>\n",
       "      <td>Overcast</td>\n",
       "      <td>Dry</td>\n",
       "      <td>Daylight</td>\n",
       "      <td>Parked Car</td>\n",
       "      <td>N</td>\n",
       "      <td>N</td>\n",
       "    </tr>\n",
       "    <tr>\n",
       "      <th>3</th>\n",
       "      <td>1</td>\n",
       "      <td>Clear</td>\n",
       "      <td>Dry</td>\n",
       "      <td>Daylight</td>\n",
       "      <td>Other</td>\n",
       "      <td>N</td>\n",
       "      <td>N</td>\n",
       "    </tr>\n",
       "    <tr>\n",
       "      <th>4</th>\n",
       "      <td>2</td>\n",
       "      <td>Raining</td>\n",
       "      <td>Wet</td>\n",
       "      <td>Daylight</td>\n",
       "      <td>Angles</td>\n",
       "      <td>N</td>\n",
       "      <td>N</td>\n",
       "    </tr>\n",
       "  </tbody>\n",
       "</table>\n",
       "</div>"
      ],
      "text/plain": [
       "   SEVERITYCODE   WEATHER ROADCOND                LIGHTCOND COLLISIONTYPE  \\\n",
       "0             2  Overcast      Wet                 Daylight        Angles   \n",
       "1             1   Raining      Wet  Dark - Street Lights On     Sideswipe   \n",
       "2             1  Overcast      Dry                 Daylight    Parked Car   \n",
       "3             1     Clear      Dry                 Daylight         Other   \n",
       "4             2   Raining      Wet                 Daylight        Angles   \n",
       "\n",
       "  UNDERINFLUENCE SPEEDING  \n",
       "0              N        N  \n",
       "1              N        N  \n",
       "2              N        N  \n",
       "3              N        N  \n",
       "4              N        N  "
      ]
     },
     "execution_count": 210,
     "metadata": {},
     "output_type": "execute_result"
    }
   ],
   "source": [
    "df_model.head()"
   ]
  },
  {
   "cell_type": "markdown",
   "metadata": {},
   "source": [
    "I have now a set of 7 features that I consider most relevant for predicting car accident severity"
   ]
  },
  {
   "cell_type": "code",
   "execution_count": 211,
   "metadata": {},
   "outputs": [
    {
     "data": {
      "text/plain": [
       "SEVERITYCODE      0\n",
       "WEATHER           0\n",
       "ROADCOND          0\n",
       "LIGHTCOND         0\n",
       "COLLISIONTYPE     0\n",
       "UNDERINFLUENCE    0\n",
       "SPEEDING          0\n",
       "dtype: int64"
      ]
     },
     "execution_count": 211,
     "metadata": {},
     "output_type": "execute_result"
    }
   ],
   "source": [
    "df_model.isnull().sum()"
   ]
  },
  {
   "cell_type": "code",
   "execution_count": 212,
   "metadata": {},
   "outputs": [
    {
     "data": {
      "text/plain": [
       "dtype('O')"
      ]
     },
     "execution_count": 212,
     "metadata": {},
     "output_type": "execute_result"
    }
   ],
   "source": [
    "df_model['SPEEDING'].dtype"
   ]
  },
  {
   "cell_type": "code",
   "execution_count": 213,
   "metadata": {},
   "outputs": [
    {
     "data": {
      "text/plain": [
       "N    185340\n",
       "Y      9333\n",
       "Name: SPEEDING, dtype: int64"
      ]
     },
     "execution_count": 213,
     "metadata": {},
     "output_type": "execute_result"
    }
   ],
   "source": [
    "df_model['SPEEDING'].value_counts()"
   ]
  },
  {
   "cell_type": "code",
   "execution_count": 215,
   "metadata": {},
   "outputs": [],
   "source": [
    "df_model.fillna({'SPEEDING':'N'},inplace=True)\n",
    "df_model['UNDERINFLUENCE'].replace({'0':'N', np.nan:'N', '1':'Y'}, inplace=True)\n",
    "df_model.fillna({'COLLISIONTYPE':'Other', 'WEATHER':'Other', 'ROADCOND':'Unknown', 'LIGHTCOND':'Unknown'},inplace=True)"
   ]
  },
  {
   "cell_type": "code",
   "execution_count": 216,
   "metadata": {},
   "outputs": [
    {
     "data": {
      "text/plain": [
       "SEVERITYCODE      0\n",
       "WEATHER           0\n",
       "ROADCOND          0\n",
       "LIGHTCOND         0\n",
       "COLLISIONTYPE     0\n",
       "UNDERINFLUENCE    0\n",
       "SPEEDING          0\n",
       "dtype: int64"
      ]
     },
     "execution_count": 216,
     "metadata": {},
     "output_type": "execute_result"
    }
   ],
   "source": [
    "df_model.isnull().sum()"
   ]
  },
  {
   "cell_type": "code",
   "execution_count": 226,
   "metadata": {},
   "outputs": [
    {
     "data": {
      "text/plain": [
       "Text(0.5, 1.0, 'Speed Feature Values')"
      ]
     },
     "execution_count": 226,
     "metadata": {},
     "output_type": "execute_result"
    },
    {
     "data": {
      "image/png": "[encoded data removed]",
      "text/plain": [
       "<Figure size 432x288 with 1 Axes>"
      ]
     },
     "metadata": {
      "needs_background": "light"
     },
     "output_type": "display_data"
    }
   ],
   "source": [
    "df_model.SPEEDING.describe(), df_model.SPEEDING.hist()\n",
    "plt.title('Speed Feature Values', color='r')"
   ]
  },
  {
   "cell_type": "code",
   "execution_count": 217,
   "metadata": {},
   "outputs": [],
   "source": [
    "def catplot_show(column, hue, df):\n",
    "  p = sns.catplot(orient = 'h', y = column, data=df, aspect=2.0, kind='count', palette=\"pastel\", hue=hue, legend = False)\n",
    "  p.set_xticklabels(rotation=45, fontsize=12)\n",
    "  p.set_yticklabels(fontsize=12)\n",
    "  p.set_ylabels(column, fontsize=12, labelpad = 16)\n",
    "  p.set_xlabels('Number of Collisions', fontsize=12, labelpad = 16)\n",
    "  legend = plt.legend(title='SEVERITY', loc=(1,1), fontsize=12)\n",
    "  legend.get_title().set_fontsize('16')\n",
    "  plt.show()\n",
    "  return p"
   ]
  },
  {
   "cell_type": "code",
   "execution_count": 218,
   "metadata": {},
   "outputs": [
    {
     "data": {
      "image/png": "[encoded data removed]",
      "text/plain": [
       "<Figure size 720x360 with 1 Axes>"
      ]
     },
     "metadata": {
      "needs_background": "light"
     },
     "output_type": "display_data"
    }
   ],
   "source": [
    "catplot_show('WEATHER', 'SEVERITYCODE', df_model);"
   ]
  },
  {
   "cell_type": "code",
   "execution_count": 224,
   "metadata": {},
   "outputs": [
    {
     "data": {
      "image/png": "[encoded data removed]",
      "text/plain": [
       "<Figure size 720x360 with 1 Axes>"
      ]
     },
     "metadata": {
      "needs_background": "light"
     },
     "output_type": "display_data"
    }
   ],
   "source": [
    "catplot_show('UNDERINFLUENCE', 'SEVERITYCODE', df_model);"
   ]
  },
  {
   "cell_type": "code",
   "execution_count": 219,
   "metadata": {},
   "outputs": [
    {
     "data": {
      "image/png": "[encoded data removed]",
      "text/plain": [
       "<Figure size 720x360 with 1 Axes>"
      ]
     },
     "metadata": {
      "needs_background": "light"
     },
     "output_type": "display_data"
    }
   ],
   "source": [
    "catplot_show('COLLISIONTYPE', 'SEVERITYCODE', df_model);"
   ]
  },
  {
   "cell_type": "code",
   "execution_count": 222,
   "metadata": {},
   "outputs": [
    {
     "data": {
      "image/png": "[encoded data removed]",
      "text/plain": [
       "<Figure size 720x360 with 1 Axes>"
      ]
     },
     "metadata": {
      "needs_background": "light"
     },
     "output_type": "display_data"
    }
   ],
   "source": [
    "catplot_show('LIGHTCOND', 'SEVERITYCODE', df_model);"
   ]
  },
  {
   "cell_type": "code",
   "execution_count": 223,
   "metadata": {},
   "outputs": [
    {
     "data": {
      "image/png": "[encoded data removed]",
      "text/plain": [
       "<Figure size 720x360 with 1 Axes>"
      ]
     },
     "metadata": {
      "needs_background": "light"
     },
     "output_type": "display_data"
    }
   ],
   "source": [
    "\n",
    "catplot_show('ROADCOND', 'SEVERITYCODE', df_model);"
   ]
  },
  {
   "cell_type": "markdown",
   "metadata": {},
   "source": [
    "Label Encoding"
   ]
  },
  {
   "cell_type": "code",
   "execution_count": 229,
   "metadata": {},
   "outputs": [],
   "source": [
    "binary_cols = ['UNDERINFLUENCE', 'SPEEDING']\n",
    "for value in binary_cols: df_model[value].replace({'Y':1, 'N': 0}, inplace=True)"
   ]
  },
  {
   "cell_type": "code",
   "execution_count": 230,
   "metadata": {},
   "outputs": [
    {
     "data": {
      "text/html": [
       "<div>\n",
       "<style scoped>\n",
       "    .dataframe tbody tr th:only-of-type {\n",
       "        vertical-align: middle;\n",
       "    }\n",
       "\n",
       "    .dataframe tbody tr th {\n",
       "        vertical-align: top;\n",
       "    }\n",
       "\n",
       "    .dataframe thead th {\n",
       "        text-align: right;\n",
       "    }\n",
       "</style>\n",
       "<table border=\"1\" class=\"dataframe\">\n",
       "  <thead>\n",
       "    <tr style=\"text-align: right;\">\n",
       "      <th></th>\n",
       "      <th>SEVERITYCODE</th>\n",
       "      <th>UNDERINFLUENCE</th>\n",
       "      <th>SPEEDING</th>\n",
       "      <th>COLLISIONTYPE_Angles</th>\n",
       "      <th>COLLISIONTYPE_Cycles</th>\n",
       "      <th>COLLISIONTYPE_Head On</th>\n",
       "      <th>COLLISIONTYPE_Left Turn</th>\n",
       "      <th>COLLISIONTYPE_Other</th>\n",
       "      <th>COLLISIONTYPE_Parked Car</th>\n",
       "      <th>COLLISIONTYPE_Pedestrian</th>\n",
       "      <th>...</th>\n",
       "      <th>ROADCOND_Wet</th>\n",
       "      <th>LIGHTCOND_Dark - No Street Lights</th>\n",
       "      <th>LIGHTCOND_Dark - Street Lights Off</th>\n",
       "      <th>LIGHTCOND_Dark - Street Lights On</th>\n",
       "      <th>LIGHTCOND_Dark - Unknown Lighting</th>\n",
       "      <th>LIGHTCOND_Dawn</th>\n",
       "      <th>LIGHTCOND_Daylight</th>\n",
       "      <th>LIGHTCOND_Dusk</th>\n",
       "      <th>LIGHTCOND_Other</th>\n",
       "      <th>LIGHTCOND_Unknown</th>\n",
       "    </tr>\n",
       "  </thead>\n",
       "  <tbody>\n",
       "    <tr>\n",
       "      <th>0</th>\n",
       "      <td>2</td>\n",
       "      <td>0</td>\n",
       "      <td>0</td>\n",
       "      <td>1</td>\n",
       "      <td>0</td>\n",
       "      <td>0</td>\n",
       "      <td>0</td>\n",
       "      <td>0</td>\n",
       "      <td>0</td>\n",
       "      <td>0</td>\n",
       "      <td>...</td>\n",
       "      <td>1</td>\n",
       "      <td>0</td>\n",
       "      <td>0</td>\n",
       "      <td>0</td>\n",
       "      <td>0</td>\n",
       "      <td>0</td>\n",
       "      <td>1</td>\n",
       "      <td>0</td>\n",
       "      <td>0</td>\n",
       "      <td>0</td>\n",
       "    </tr>\n",
       "    <tr>\n",
       "      <th>1</th>\n",
       "      <td>1</td>\n",
       "      <td>0</td>\n",
       "      <td>0</td>\n",
       "      <td>0</td>\n",
       "      <td>0</td>\n",
       "      <td>0</td>\n",
       "      <td>0</td>\n",
       "      <td>0</td>\n",
       "      <td>0</td>\n",
       "      <td>0</td>\n",
       "      <td>...</td>\n",
       "      <td>1</td>\n",
       "      <td>0</td>\n",
       "      <td>0</td>\n",
       "      <td>1</td>\n",
       "      <td>0</td>\n",
       "      <td>0</td>\n",
       "      <td>0</td>\n",
       "      <td>0</td>\n",
       "      <td>0</td>\n",
       "      <td>0</td>\n",
       "    </tr>\n",
       "    <tr>\n",
       "      <th>2</th>\n",
       "      <td>1</td>\n",
       "      <td>0</td>\n",
       "      <td>0</td>\n",
       "      <td>0</td>\n",
       "      <td>0</td>\n",
       "      <td>0</td>\n",
       "      <td>0</td>\n",
       "      <td>0</td>\n",
       "      <td>1</td>\n",
       "      <td>0</td>\n",
       "      <td>...</td>\n",
       "      <td>0</td>\n",
       "      <td>0</td>\n",
       "      <td>0</td>\n",
       "      <td>0</td>\n",
       "      <td>0</td>\n",
       "      <td>0</td>\n",
       "      <td>1</td>\n",
       "      <td>0</td>\n",
       "      <td>0</td>\n",
       "      <td>0</td>\n",
       "    </tr>\n",
       "    <tr>\n",
       "      <th>3</th>\n",
       "      <td>1</td>\n",
       "      <td>0</td>\n",
       "      <td>0</td>\n",
       "      <td>0</td>\n",
       "      <td>0</td>\n",
       "      <td>0</td>\n",
       "      <td>0</td>\n",
       "      <td>1</td>\n",
       "      <td>0</td>\n",
       "      <td>0</td>\n",
       "      <td>...</td>\n",
       "      <td>0</td>\n",
       "      <td>0</td>\n",
       "      <td>0</td>\n",
       "      <td>0</td>\n",
       "      <td>0</td>\n",
       "      <td>0</td>\n",
       "      <td>1</td>\n",
       "      <td>0</td>\n",
       "      <td>0</td>\n",
       "      <td>0</td>\n",
       "    </tr>\n",
       "    <tr>\n",
       "      <th>4</th>\n",
       "      <td>2</td>\n",
       "      <td>0</td>\n",
       "      <td>0</td>\n",
       "      <td>1</td>\n",
       "      <td>0</td>\n",
       "      <td>0</td>\n",
       "      <td>0</td>\n",
       "      <td>0</td>\n",
       "      <td>0</td>\n",
       "      <td>0</td>\n",
       "      <td>...</td>\n",
       "      <td>1</td>\n",
       "      <td>0</td>\n",
       "      <td>0</td>\n",
       "      <td>0</td>\n",
       "      <td>0</td>\n",
       "      <td>0</td>\n",
       "      <td>1</td>\n",
       "      <td>0</td>\n",
       "      <td>0</td>\n",
       "      <td>0</td>\n",
       "    </tr>\n",
       "  </tbody>\n",
       "</table>\n",
       "<p>5 rows × 42 columns</p>\n",
       "</div>"
      ],
      "text/plain": [
       "   SEVERITYCODE  UNDERINFLUENCE  SPEEDING  COLLISIONTYPE_Angles  \\\n",
       "0             2               0         0                     1   \n",
       "1             1               0         0                     0   \n",
       "2             1               0         0                     0   \n",
       "3             1               0         0                     0   \n",
       "4             2               0         0                     1   \n",
       "\n",
       "   COLLISIONTYPE_Cycles  COLLISIONTYPE_Head On  COLLISIONTYPE_Left Turn  \\\n",
       "0                     0                      0                        0   \n",
       "1                     0                      0                        0   \n",
       "2                     0                      0                        0   \n",
       "3                     0                      0                        0   \n",
       "4                     0                      0                        0   \n",
       "\n",
       "   COLLISIONTYPE_Other  COLLISIONTYPE_Parked Car  COLLISIONTYPE_Pedestrian  \\\n",
       "0                    0                         0                         0   \n",
       "1                    0                         0                         0   \n",
       "2                    0                         1                         0   \n",
       "3                    1                         0                         0   \n",
       "4                    0                         0                         0   \n",
       "\n",
       "   ...  ROADCOND_Wet  LIGHTCOND_Dark - No Street Lights  \\\n",
       "0  ...             1                                  0   \n",
       "1  ...             1                                  0   \n",
       "2  ...             0                                  0   \n",
       "3  ...             0                                  0   \n",
       "4  ...             1                                  0   \n",
       "\n",
       "   LIGHTCOND_Dark - Street Lights Off  LIGHTCOND_Dark - Street Lights On  \\\n",
       "0                                   0                                  0   \n",
       "1                                   0                                  1   \n",
       "2                                   0                                  0   \n",
       "3                                   0                                  0   \n",
       "4                                   0                                  0   \n",
       "\n",
       "   LIGHTCOND_Dark - Unknown Lighting  LIGHTCOND_Dawn  LIGHTCOND_Daylight  \\\n",
       "0                                  0               0                   1   \n",
       "1                                  0               0                   0   \n",
       "2                                  0               0                   1   \n",
       "3                                  0               0                   1   \n",
       "4                                  0               0                   1   \n",
       "\n",
       "   LIGHTCOND_Dusk  LIGHTCOND_Other  LIGHTCOND_Unknown  \n",
       "0               0                0                  0  \n",
       "1               0                0                  0  \n",
       "2               0                0                  0  \n",
       "3               0                0                  0  \n",
       "4               0                0                  0  \n",
       "\n",
       "[5 rows x 42 columns]"
      ]
     },
     "execution_count": 230,
     "metadata": {},
     "output_type": "execute_result"
    }
   ],
   "source": [
    "cat_cols = ['COLLISIONTYPE','WEATHER','ROADCOND','LIGHTCOND']\n",
    "df_model = pd.get_dummies(data=df_model, columns=cat_cols)\n",
    "df_model.head()"
   ]
  },
  {
   "cell_type": "code",
   "execution_count": 231,
   "metadata": {},
   "outputs": [
    {
     "data": {
      "text/plain": [
       "SEVERITYCODE                          0\n",
       "UNDERINFLUENCE                        0\n",
       "SPEEDING                              0\n",
       "COLLISIONTYPE_Angles                  0\n",
       "COLLISIONTYPE_Cycles                  0\n",
       "COLLISIONTYPE_Head On                 0\n",
       "COLLISIONTYPE_Left Turn               0\n",
       "COLLISIONTYPE_Other                   0\n",
       "COLLISIONTYPE_Parked Car              0\n",
       "COLLISIONTYPE_Pedestrian              0\n",
       "COLLISIONTYPE_Rear Ended              0\n",
       "COLLISIONTYPE_Right Turn              0\n",
       "COLLISIONTYPE_Sideswipe               0\n",
       "WEATHER_Blowing Sand/Dirt             0\n",
       "WEATHER_Clear                         0\n",
       "WEATHER_Fog/Smog/Smoke                0\n",
       "WEATHER_Other                         0\n",
       "WEATHER_Overcast                      0\n",
       "WEATHER_Partly Cloudy                 0\n",
       "WEATHER_Raining                       0\n",
       "WEATHER_Severe Crosswind              0\n",
       "WEATHER_Sleet/Hail/Freezing Rain      0\n",
       "WEATHER_Snowing                       0\n",
       "WEATHER_Unknown                       0\n",
       "ROADCOND_Dry                          0\n",
       "ROADCOND_Ice                          0\n",
       "ROADCOND_Oil                          0\n",
       "ROADCOND_Other                        0\n",
       "ROADCOND_Sand/Mud/Dirt                0\n",
       "ROADCOND_Snow/Slush                   0\n",
       "ROADCOND_Standing Water               0\n",
       "ROADCOND_Unknown                      0\n",
       "ROADCOND_Wet                          0\n",
       "LIGHTCOND_Dark - No Street Lights     0\n",
       "LIGHTCOND_Dark - Street Lights Off    0\n",
       "LIGHTCOND_Dark - Street Lights On     0\n",
       "LIGHTCOND_Dark - Unknown Lighting     0\n",
       "LIGHTCOND_Dawn                        0\n",
       "LIGHTCOND_Daylight                    0\n",
       "LIGHTCOND_Dusk                        0\n",
       "LIGHTCOND_Other                       0\n",
       "LIGHTCOND_Unknown                     0\n",
       "dtype: int64"
      ]
     },
     "execution_count": 231,
     "metadata": {},
     "output_type": "execute_result"
    }
   ],
   "source": [
    "df_model.isnull().sum()"
   ]
  },
  {
   "cell_type": "markdown",
   "metadata": {},
   "source": [
    "## 5. Model Development"
   ]
  },
  {
   "cell_type": "code",
   "execution_count": 237,
   "metadata": {},
   "outputs": [],
   "source": [
    "from sklearn.neighbors import KNeighborsClassifier\n",
    "from sklearn.tree import DecisionTreeClassifier\n",
    "from sklearn.ensemble import RandomForestClassifier\n",
    "from sklearn.linear_model import LogisticRegression\n",
    "from sklearn.ensemble import GradientBoostingClassifier\n",
    "from sklearn.svm import SVC\n",
    "from sklearn.preprocessing import StandardScaler\n",
    "from sklearn.model_selection import train_test_split\n",
    "#evaluation metrics\n",
    "import time\n",
    "from sklearn.metrics import log_loss, jaccard_similarity_score, classification_report\n",
    "from sklearn.metrics import precision_score, recall_score, roc_curve\n",
    "from sklearn import metrics\n",
    "from sklearn.metrics import confusion_matrix\n",
    "from sklearn.metrics import accuracy_score\n",
    "from sklearn.metrics import f1_score"
   ]
  },
  {
   "cell_type": "code",
   "execution_count": 234,
   "metadata": {},
   "outputs": [
    {
     "data": {
      "text/plain": [
       "((194673, 41), (194673,))"
      ]
     },
     "execution_count": 234,
     "metadata": {},
     "output_type": "execute_result"
    }
   ],
   "source": [
    "X = df_model.drop('SEVERITYCODE', axis=1)\n",
    "y = df_model['SEVERITYCODE']\n",
    "X.shape, y.shape"
   ]
  },
  {
   "cell_type": "code",
   "execution_count": 235,
   "metadata": {},
   "outputs": [
    {
     "data": {
      "text/plain": [
       "((155738, 41), (38935, 41))"
      ]
     },
     "execution_count": 235,
     "metadata": {},
     "output_type": "execute_result"
    }
   ],
   "source": [
    "X_train, X_test, y_train, y_test = train_test_split(X, y, test_size = 0.2, random_state = 117)\n",
    "X_train.shape, X_test.shape"
   ]
  },
  {
   "cell_type": "markdown",
   "metadata": {},
   "source": [
    "Logistic Regression"
   ]
  },
  {
   "cell_type": "code",
   "execution_count": 255,
   "metadata": {},
   "outputs": [
    {
     "name": "stdout",
     "output_type": "stream",
     "text": [
      "Time taken : 0.6218419075012207\n",
      "f1 Score:  0.6968481371426071\n",
      "Accuracy Score:  0.749993579041993\n",
      "Jaccard : 0.749993579041993\n"
     ]
    }
   ],
   "source": [
    "t0=time.time()\n",
    "log_reg=LogisticRegression(C=0.01,solver='liblinear').fit(X_train,y_train)\n",
    "y_pred_log_reg=log_reg.predict(X_test)\n",
    "jaccard_lr = jaccard_similarity_score(y_test,y_pred_log_reg)\n",
    "log_reg_f1_score = f1_score(y_test,y_pred_log_reg, average='weighted')\n",
    "log_reg_accuracy_score = metrics.accuracy_score(y_test,y_pred_log_reg)\n",
    "prec_log = precision_score(y_test, y_pred_log_reg)\n",
    "rec_log = recall_score(y_test, y_pred_log_reg)\n",
    "print('Time taken :' , time.time()-t0)\n",
    "print('f1 Score: ', log_reg_f1_score)\n",
    "print('Accuracy Score: ', log_reg_accuracy_score)\n",
    "print('Jaccard :',jaccard_lr)"
   ]
  },
  {
   "cell_type": "markdown",
   "metadata": {},
   "source": [
    "Decision Tree"
   ]
  },
  {
   "cell_type": "code",
   "execution_count": 244,
   "metadata": {},
   "outputs": [
    {
     "data": {
      "image/png": "[encoded data removed]",
      "text/plain": [
       "<Figure size 432x288 with 1 Axes>"
      ]
     },
     "metadata": {
      "needs_background": "light"
     },
     "output_type": "display_data"
    }
   ],
   "source": [
    "depth = 11\n",
    "accuracy_score = []\n",
    "for d in range(1,depth):\n",
    "    dtc = DecisionTreeClassifier(criterion=\"entropy\", max_depth = d)\n",
    "    dtc.fit(X_train,y_train)\n",
    "    y_pred = dtc.predict(X_test)\n",
    "    accuracy_score.append(metrics.accuracy_score(y_test, y_pred))\n",
    "plt.plot(range(1,depth),accuracy_score,'r', lw = 2)\n",
    "plt.ylabel('Accuracy ',fontsize =12)\n",
    "plt.xlabel('Max Depth',fontsize =12)\n",
    "plt.tight_layout()\n",
    "plt.show()"
   ]
  },
  {
   "cell_type": "code",
   "execution_count": 246,
   "metadata": {},
   "outputs": [
    {
     "name": "stdout",
     "output_type": "stream",
     "text": [
      "Time taken : 147.4089379310608\n",
      "f1 Score:  0.6859778068715808\n",
      "Accuracy Score:  0.7496340053936047\n"
     ]
    }
   ],
   "source": [
    "dtc_tuned = DecisionTreeClassifier(criterion=\"entropy\", max_depth = 6)\n",
    "dtc_tuned.fit(X_train,y_train)\n",
    "y_pred_tuned = dtc_tuned.predict(X_test)\n",
    "dtc_tuned_f1 = f1_score(y_test, y_pred_tuned, average='weighted')\n",
    "dtc_tuned_accuracy = metrics.accuracy_score(y_test, y_pred_tuned)\n",
    "print('Time taken :' , time.time()-t0)\n",
    "print('f1 Score: ', dtc_tuned_f1)\n",
    "print('Accuracy Score: ', dtc_tuned_accuracy)"
   ]
  },
  {
   "cell_type": "code",
   "execution_count": null,
   "metadata": {},
   "outputs": [],
   "source": [
    "Random Forests"
   ]
  },
  {
   "cell_type": "code",
   "execution_count": 250,
   "metadata": {},
   "outputs": [
    {
     "name": "stdout",
     "output_type": "stream",
     "text": [
      "Time taken : 17.491930961608887\n",
      "f1 Score:  0.6926598402337762\n",
      "Accuracy Score:  0.7509695646590472\n"
     ]
    }
   ],
   "source": [
    "t0=time.time()\n",
    "rf=RandomForestClassifier(max_depth = 17)\n",
    "rf.fit(X_train,y_train)\n",
    "y_pred_rf=rf.predict(X_test)\n",
    "rf_f1_score = f1_score(y_test,y_pred_rf, average='weighted')\n",
    "rf_accuracy_score = metrics.accuracy_score(y_test,y_pred_rf)\n",
    "print('Time taken :' , time.time()-t0)\n",
    "print('f1 Score: ', rf_f1_score)\n",
    "print('Accuracy Score: ', rf_accuracy_score)"
   ]
  },
  {
   "cell_type": "code",
   "execution_count": null,
   "metadata": {},
   "outputs": [],
   "source": [
    "K-Nearest Neighbors (KNN)"
   ]
  },
  {
   "cell_type": "code",
   "execution_count": 251,
   "metadata": {},
   "outputs": [
    {
     "name": "stdout",
     "output_type": "stream",
     "text": [
      "Time taken : 416.6370050907135\n",
      "f1 Score:  0.6978095522514085\n",
      "Accuracy Score:  0.7409785540002568\n"
     ]
    }
   ],
   "source": [
    "t0=time.time()\n",
    "knn=KNeighborsClassifier(n_neighbors=8)\n",
    "knn.fit(X_train,y_train)\n",
    "y_pred_knn=knn.predict(X_test)\n",
    "knn_f1_score = f1_score(y_test,y_pred_knn, average='weighted')\n",
    "knn_accuracy_score = metrics.accuracy_score(y_test,y_pred_knn)\n",
    "print('Time taken :' , time.time()-t0)\n",
    "print('f1 Score: ', knn_f1_score)\n",
    "print('Accuracy Score: ', knn_accuracy_score)"
   ]
  },
  {
   "cell_type": "markdown",
   "metadata": {},
   "source": [
    "Gradient Boosting"
   ]
  },
  {
   "cell_type": "code",
   "execution_count": 253,
   "metadata": {},
   "outputs": [
    {
     "name": "stdout",
     "output_type": "stream",
     "text": [
      "Time taken : 28.608286142349243\n",
      "f1 Score:  0.6918265159737057\n",
      "Accuracy Score:  0.7509952484910749\n"
     ]
    }
   ],
   "source": [
    "t0=time.time()\n",
    "gbm=GradientBoostingClassifier(max_depth = 4)\n",
    "gbm.fit(X_train,y_train)\n",
    "y_pred_gbm=gbm.predict(X_test)\n",
    "gbm_f1_score = f1_score(y_test,y_pred_gbm, average='weighted')\n",
    "gbm_accuracy_score = metrics.accuracy_score(y_test,y_pred_gbm)\n",
    "print('Time taken :' , time.time()-t0)\n",
    "print('f1 Score: ', gbm_f1_score)\n",
    "print('Accuracy Score: ', gbm_accuracy_score)"
   ]
  },
  {
   "cell_type": "markdown",
   "metadata": {},
   "source": [
    "SVM (Support Vector Machine) "
   ]
  },
  {
   "cell_type": "code",
   "execution_count": 275,
   "metadata": {},
   "outputs": [],
   "source": [
    "size = [1000,5000,10000,12000,15000,20000,30000,40000,50000,75000]\n",
    "acc = []\n",
    "t = []\n",
    "for s in size:\n",
    "    t0=time.time()\n",
    "    svm = SVC().fit(X_train[:s],y_train[:s])\n",
    "    t.append(time.time()-t0)\n",
    "    y_pred_svm=svm.predict(X_test[:s])\n",
    "    acc.append(jaccard_similarity_score(y_test[:s],y_pred_svm))"
   ]
  },
  {
   "cell_type": "code",
   "execution_count": 276,
   "metadata": {},
   "outputs": [
    {
     "data": {
      "text/html": [
       "<div>\n",
       "<style scoped>\n",
       "    .dataframe tbody tr th:only-of-type {\n",
       "        vertical-align: middle;\n",
       "    }\n",
       "\n",
       "    .dataframe tbody tr th {\n",
       "        vertical-align: top;\n",
       "    }\n",
       "\n",
       "    .dataframe thead th {\n",
       "        text-align: right;\n",
       "    }\n",
       "</style>\n",
       "<table border=\"1\" class=\"dataframe\">\n",
       "  <thead>\n",
       "    <tr style=\"text-align: right;\">\n",
       "      <th></th>\n",
       "      <th>acc</th>\n",
       "      <th>time</th>\n",
       "    </tr>\n",
       "  </thead>\n",
       "  <tbody>\n",
       "    <tr>\n",
       "      <th>1000</th>\n",
       "      <td>0.719000</td>\n",
       "      <td>0.164019</td>\n",
       "    </tr>\n",
       "    <tr>\n",
       "      <th>5000</th>\n",
       "      <td>0.741600</td>\n",
       "      <td>2.191340</td>\n",
       "    </tr>\n",
       "    <tr>\n",
       "      <th>10000</th>\n",
       "      <td>0.734100</td>\n",
       "      <td>9.694078</td>\n",
       "    </tr>\n",
       "    <tr>\n",
       "      <th>12000</th>\n",
       "      <td>0.736917</td>\n",
       "      <td>9.999889</td>\n",
       "    </tr>\n",
       "    <tr>\n",
       "      <th>15000</th>\n",
       "      <td>0.742467</td>\n",
       "      <td>11.587758</td>\n",
       "    </tr>\n",
       "    <tr>\n",
       "      <th>20000</th>\n",
       "      <td>0.746150</td>\n",
       "      <td>21.152972</td>\n",
       "    </tr>\n",
       "    <tr>\n",
       "      <th>30000</th>\n",
       "      <td>0.748500</td>\n",
       "      <td>54.141236</td>\n",
       "    </tr>\n",
       "    <tr>\n",
       "      <th>40000</th>\n",
       "      <td>0.750148</td>\n",
       "      <td>99.491751</td>\n",
       "    </tr>\n",
       "    <tr>\n",
       "      <th>50000</th>\n",
       "      <td>0.750738</td>\n",
       "      <td>131.733418</td>\n",
       "    </tr>\n",
       "    <tr>\n",
       "      <th>75000</th>\n",
       "      <td>0.750661</td>\n",
       "      <td>593.530088</td>\n",
       "    </tr>\n",
       "  </tbody>\n",
       "</table>\n",
       "</div>"
      ],
      "text/plain": [
       "            acc        time\n",
       "1000   0.719000    0.164019\n",
       "5000   0.741600    2.191340\n",
       "10000  0.734100    9.694078\n",
       "12000  0.736917    9.999889\n",
       "15000  0.742467   11.587758\n",
       "20000  0.746150   21.152972\n",
       "30000  0.748500   54.141236\n",
       "40000  0.750148   99.491751\n",
       "50000  0.750738  131.733418\n",
       "75000  0.750661  593.530088"
      ]
     },
     "execution_count": 276,
     "metadata": {},
     "output_type": "execute_result"
    }
   ],
   "source": [
    "performance = pd.DataFrame({'acc':acc, 'time':t}, index=size)\n",
    "performance"
   ]
  },
  {
   "cell_type": "code",
   "execution_count": 277,
   "metadata": {},
   "outputs": [
    {
     "data": {
      "text/plain": [
       "Text(0.5, 1.0, 'Time(s)')"
      ]
     },
     "execution_count": 277,
     "metadata": {},
     "output_type": "execute_result"
    },
    {
     "data": {
      "image/png": "[encoded data removed]",
      "text/plain": [
       "<Figure size 432x288 with 1 Axes>"
      ]
     },
     "metadata": {
      "needs_background": "light"
     },
     "output_type": "display_data"
    },
    {
     "data": {
      "image/png": "[encoded data removed]",
      "text/plain": [
       "<Figure size 432x288 with 1 Axes>"
      ]
     },
     "metadata": {
      "needs_background": "light"
     },
     "output_type": "display_data"
    }
   ],
   "source": [
    "performance.plot(y='acc', color='r', label='accuracy')\n",
    "plt.xlabel('Samples')\n",
    "plt.ylabel('Evaluation accuracy')\n",
    "plt.title('Accuracy')\n",
    "performance.plot(y='time', color='green', label='time')\n",
    "plt.xlabel('Samples')\n",
    "plt.ylabel('Computational Time ')\n",
    "plt.title('Time(s)')"
   ]
  },
  {
   "cell_type": "code",
   "execution_count": 278,
   "metadata": {},
   "outputs": [
    {
     "name": "stdout",
     "output_type": "stream",
     "text": [
      "Time taken : 1393.654053926468\n",
      "f1 Score:  0.6926598402337762\n",
      "Accuracy Score:  0.7509695646590472\n"
     ]
    }
   ],
   "source": [
    "#Evaluation\n",
    "\n",
    "s=100000\n",
    "t0=time.time()\n",
    "svm = SVC().fit(X_train[:s],y_train[:s])\n",
    "t_svm = time.time()-t0\n",
    "y_pred_svm=svm.predict(X_test[:s])\n",
    "jaccard_svm = jaccard_similarity_score(y_test[:s],y_pred_svm)\n",
    "c_svm = classification_report(y_test[:s],y_pred_svm)\n",
    "prec_svm = precision_score(y_test[:s], y_pred_svm)\n",
    "rec_svm = recall_score(y_test[:s], y_pred_svm)\n",
    "\n",
    "svm_f1_score = f1_score(y_test,y_pred_svm, average='weighted')\n",
    "svm_accuracy_score = metrics.accuracy_score(y_test,y_pred_svm)\n",
    "print('Time taken :' , time.time()-t0)\n",
    "print('f1 Score: ', rf_f1_score)\n",
    "print('Accuracy Score: ', rf_accuracy_score)"
   ]
  },
  {
   "cell_type": "markdown",
   "metadata": {},
   "source": [
    "## 6. Results"
   ]
  },
  {
   "cell_type": "code",
   "execution_count": null,
   "metadata": {},
   "outputs": [],
   "source": [
    "Model Comparison"
   ]
  },
  {
   "cell_type": "code",
   "execution_count": 279,
   "metadata": {},
   "outputs": [
    {
     "data": {
      "text/html": [
       "<div>\n",
       "<style scoped>\n",
       "    .dataframe tbody tr th:only-of-type {\n",
       "        vertical-align: middle;\n",
       "    }\n",
       "\n",
       "    .dataframe tbody tr th {\n",
       "        vertical-align: top;\n",
       "    }\n",
       "\n",
       "    .dataframe thead th {\n",
       "        text-align: right;\n",
       "    }\n",
       "</style>\n",
       "<table border=\"1\" class=\"dataframe\">\n",
       "  <thead>\n",
       "    <tr style=\"text-align: right;\">\n",
       "      <th></th>\n",
       "      <th>F1 Score</th>\n",
       "      <th>Accuracy</th>\n",
       "    </tr>\n",
       "    <tr>\n",
       "      <th>Model</th>\n",
       "      <th></th>\n",
       "      <th></th>\n",
       "    </tr>\n",
       "  </thead>\n",
       "  <tbody>\n",
       "    <tr>\n",
       "      <th>Decision Tree</th>\n",
       "      <td>0.685978</td>\n",
       "      <td>0.749634</td>\n",
       "    </tr>\n",
       "    <tr>\n",
       "      <th>KNN</th>\n",
       "      <td>0.697810</td>\n",
       "      <td>0.740979</td>\n",
       "    </tr>\n",
       "    <tr>\n",
       "      <th>Logistic Regression</th>\n",
       "      <td>0.696848</td>\n",
       "      <td>0.749994</td>\n",
       "    </tr>\n",
       "    <tr>\n",
       "      <th>Gradient Boosting</th>\n",
       "      <td>0.691827</td>\n",
       "      <td>0.750995</td>\n",
       "    </tr>\n",
       "    <tr>\n",
       "      <th>Random Forest</th>\n",
       "      <td>0.692660</td>\n",
       "      <td>0.750970</td>\n",
       "    </tr>\n",
       "    <tr>\n",
       "      <th>SVM</th>\n",
       "      <td>0.691684</td>\n",
       "      <td>0.751098</td>\n",
       "    </tr>\n",
       "  </tbody>\n",
       "</table>\n",
       "</div>"
      ],
      "text/plain": [
       "                     F1 Score  Accuracy\n",
       "Model                                  \n",
       "Decision Tree        0.685978  0.749634\n",
       "KNN                  0.697810  0.740979\n",
       "Logistic Regression  0.696848  0.749994\n",
       "Gradient Boosting    0.691827  0.750995\n",
       "Random Forest        0.692660  0.750970\n",
       "SVM                  0.691684  0.751098"
      ]
     },
     "execution_count": 279,
     "metadata": {},
     "output_type": "execute_result"
    }
   ],
   "source": [
    "scores={'Model':['Decision Tree','KNN','Logistic Regression', 'Gradient Boosting', 'Random Forest', 'SVM'],\n",
    "    'F1 Score': [dtc_tuned_f1,knn_f1_score,log_reg_f1_score, gbm_f1_score, rf_f1_score, svm_f1_score],\n",
    "    'Accuracy': [dtc_tuned_accuracy,knn_accuracy_score,log_reg_accuracy_score,gbm_accuracy_score,rf_accuracy_score, svm_accuracy_score]}\n",
    "\n",
    "scores=pd.DataFrame(scores)\n",
    "scores.set_index('Model')\n"
   ]
  },
  {
   "cell_type": "markdown",
   "metadata": {},
   "source": [
    "Selected features from the dataset have been used with 6 different machine learning models. The final comparison of models shows that SVM has the highest accuracy score by a very small margin. However, given its high F1 and accuracy score and its relatively easier implementation, I personally prefer using Random Forest model.  "
   ]
  },
  {
   "cell_type": "code",
   "execution_count": null,
   "metadata": {},
   "outputs": [],
   "source": []
  }
 ],
 "metadata": {
  "kernelspec": {
   "display_name": "Python 3",
   "language": "python",
   "name": "python3"
  },
  "language_info": {
   "codemirror_mode": {
    "name": "ipython",
    "version": 3
   },
   "file_extension": ".py",
   "mimetype": "text/x-python",
   "name": "python",
   "nbconvert_exporter": "python",
   "pygments_lexer": "ipython3",
   "version": "3.7.6"
  }
 },
 "nbformat": 4,
 "nbformat_minor": 4
}
